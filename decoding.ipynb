{
 "cells": [
  {
   "cell_type": "code",
   "execution_count": 2,
   "metadata": {},
   "outputs": [
    {
     "name": "stderr",
     "output_type": "stream",
     "text": [
      "/root/miniconda3/envs/rag_coder/lib/python3.9/site-packages/tqdm/auto.py:21: TqdmWarning: IProgress not found. Please update jupyter and ipywidgets. See https://ipywidgets.readthedocs.io/en/stable/user_install.html\n",
      "  from .autonotebook import tqdm as notebook_tqdm\n"
     ]
    },
    {
     "data": {
      "text/plain": [
       "'cuda'"
      ]
     },
     "execution_count": 2,
     "metadata": {},
     "output_type": "execute_result"
    }
   ],
   "source": [
    "import torch\n",
    "from torch import nn\n",
    "import torch.nn.functional as F\n",
    "import transformers\n",
    "from transformers import AutoTokenizer,AutoConfig,AutoModel,AutoModelForCausalLM\n",
    "import numpy as np\n",
    "import pandas as pd\n",
    "import matplotlib.pyplot as plt\n",
    "import matplotlib as mpl\n",
    "from IPython.display import Image\n",
    "# default: 100\n",
    "mpl.rcParams['figure.dpi'] = 150\n",
    "device = 'cuda' if torch.cuda.is_available() else 'cpu'\n",
    "device"
   ]
  },
  {
   "cell_type": "code",
   "execution_count": 3,
   "metadata": {},
   "outputs": [
    {
     "name": "stderr",
     "output_type": "stream",
     "text": [
      "Sliding Window Attention is enabled but not implemented for `sdpa`; unexpected results may be encountered.\n"
     ]
    }
   ],
   "source": [
    "model_ckpt = \"/root/autodl-fs/qwen1.5_0.5B_chat\"\n",
    "\n",
    "tokenizer = AutoTokenizer.from_pretrained(model_ckpt)\n",
    "model = AutoModelForCausalLM.from_pretrained(model_ckpt).to(device)"
   ]
  },
  {
   "cell_type": "code",
   "execution_count": 4,
   "metadata": {},
   "outputs": [
    {
     "data": {
      "text/plain": [
       "{'input_ids': tensor([[  32, 1293, 1293,  882, 4134,   11,  220]]), 'attention_mask': tensor([[1, 1, 1, 1, 1, 1, 1]])}"
      ]
     },
     "execution_count": 4,
     "metadata": {},
     "output_type": "execute_result"
    }
   ],
   "source": [
    "sample_text = 'A long long time ago, '\n",
    "\n",
    "model_inputs = tokenizer(sample_text, return_tensors='pt')\n",
    "model_inputs"
   ]
  },
  {
   "cell_type": "code",
   "execution_count": 5,
   "metadata": {},
   "outputs": [
    {
     "name": "stdout",
     "output_type": "stream",
     "text": [
      "tensor([[  32, 1293, 1293,  882, 4134,   11,  220]], device='cuda:0')\n"
     ]
    },
    {
     "data": {
      "text/plain": [
       "tensor([  32, 1293, 1293,  882, 4134,   11,  220], device='cuda:0')"
      ]
     },
     "execution_count": 5,
     "metadata": {},
     "output_type": "execute_result"
    }
   ],
   "source": [
    "input_ids = model_inputs['input_ids'].to(device)\n",
    "print(input_ids)\n",
    "\n",
    "input_ids[0]"
   ]
  },
  {
   "cell_type": "code",
   "execution_count": 6,
   "metadata": {},
   "outputs": [
    {
     "data": {
      "text/plain": [
       "'A long long time ago, '"
      ]
     },
     "execution_count": 6,
     "metadata": {},
     "output_type": "execute_result"
    }
   ],
   "source": [
    "tokenizer.decode(input_ids[0])"
   ]
  },
  {
   "cell_type": "code",
   "execution_count": 19,
   "metadata": {},
   "outputs": [
    {
     "data": {
      "text/plain": [
       "torch.Size([1, 1])"
      ]
     },
     "execution_count": 19,
     "metadata": {},
     "output_type": "execute_result"
    }
   ],
   "source": [
    "sorted_ids = torch.argsort(torch.softmax(model(input_ids).logits[0, -1, :], dim=-1), dim=-1, descending=True)\n",
    "sorted_ids[None, 0, None].shape"
   ]
  },
  {
   "cell_type": "code",
   "execution_count": 18,
   "metadata": {},
   "outputs": [
    {
     "name": "stdout",
     "output_type": "stream",
     "text": [
      "before append input_ids.shape torch.Size([1, 17])\n",
      "after append input_ids.shape torch.Size([1, 18])\n",
      "before append input_ids.shape torch.Size([1, 18])\n",
      "after append input_ids.shape torch.Size([1, 19])\n",
      "before append input_ids.shape torch.Size([1, 19])\n",
      "after append input_ids.shape torch.Size([1, 20])\n",
      "before append input_ids.shape torch.Size([1, 20])\n",
      "after append input_ids.shape torch.Size([1, 21])\n",
      "before append input_ids.shape torch.Size([1, 21])\n",
      "after append input_ids.shape torch.Size([1, 22])\n",
      "before append input_ids.shape torch.Size([1, 22])\n",
      "after append input_ids.shape torch.Size([1, 23])\n",
      "before append input_ids.shape torch.Size([1, 23])\n",
      "after append input_ids.shape torch.Size([1, 24])\n",
      "before append input_ids.shape torch.Size([1, 24])\n",
      "after append input_ids.shape torch.Size([1, 25])\n",
      "before append input_ids.shape torch.Size([1, 25])\n",
      "after append input_ids.shape torch.Size([1, 26])\n",
      "before append input_ids.shape torch.Size([1, 26])\n",
      "after append input_ids.shape torch.Size([1, 27])\n"
     ]
    }
   ],
   "source": [
    "n = 10 # 生成的词数量\n",
    "choices = 5 # \n",
    "iterations = []\n",
    "\n",
    "with torch.no_grad():\n",
    "    for _ in range(n):\n",
    "        iteration = {}\n",
    "        iteration[\"input\"] = tokenizer.decode(input_ids[0])\n",
    "        output = model(input_ids)\n",
    "    \n",
    "        last_token_logits = output.logits[0,-1,:]\n",
    "        \n",
    "        # print(last_token_logits.shape) torch.Size([151936])\n",
    "        # 只有一个维度 ~= dim=-1 只取最后一个维度\n",
    "        last_token_probs = torch.softmax(last_token_logits,dim=-1)\n",
    "        sorted_ids = torch.argsort(last_token_probs,dim=-1,descending=True)\n",
    "        for choice_idx in range(choices):\n",
    "            token_id = sorted_ids[choice_idx]\n",
    "            token_prob = last_token_probs[token_id].cpu().numpy()\n",
    "            token_choice = f\"{tokenizer.decode(token_id)}({100*token_prob:.2f}%)\"\n",
    "            iteration[f'choice {choice_idx+1}'] = token_choice\n",
    "            \n",
    "        print('before append input_ids.shape', input_ids.shape)\n",
    "        input_ids = torch.cat([input_ids, sorted_ids[None, 0, None]], dim=-1)\n",
    "        print('after append input_ids.shape', input_ids.shape)\n",
    "        \n",
    "        iterations.append(iteration)\n",
    "            \n",
    "            \n",
    "        \n",
    "        "
   ]
  },
  {
   "cell_type": "code",
   "execution_count": 16,
   "metadata": {},
   "outputs": [
    {
     "data": {
      "text/plain": [
       "{'input': 'A long long time ago,  a group of people  decided to travel to',\n",
       " 'choice 1': ' a(43.56%)',\n",
       " 'choice 2': ' the(23.48%)',\n",
       " 'choice 3': ' (8.41%)',\n",
       " 'choice 4': ' another(5.29%)',\n",
       " 'choice 5': ' an(3.04%)'}"
      ]
     },
     "execution_count": 16,
     "metadata": {},
     "output_type": "execute_result"
    }
   ],
   "source": [
    "iterations[-1]"
   ]
  },
  {
   "cell_type": "code",
   "execution_count": 15,
   "metadata": {},
   "outputs": [
    {
     "data": {
      "text/html": [
       "<div>\n",
       "<style scoped>\n",
       "    .dataframe tbody tr th:only-of-type {\n",
       "        vertical-align: middle;\n",
       "    }\n",
       "\n",
       "    .dataframe tbody tr th {\n",
       "        vertical-align: top;\n",
       "    }\n",
       "\n",
       "    .dataframe thead th {\n",
       "        text-align: right;\n",
       "    }\n",
       "</style>\n",
       "<table border=\"1\" class=\"dataframe\">\n",
       "  <thead>\n",
       "    <tr style=\"text-align: right;\">\n",
       "      <th></th>\n",
       "      <th>input</th>\n",
       "      <th>choice 1</th>\n",
       "      <th>choice 2</th>\n",
       "      <th>choice 3</th>\n",
       "      <th>choice 4</th>\n",
       "      <th>choice 5</th>\n",
       "    </tr>\n",
       "  </thead>\n",
       "  <tbody>\n",
       "    <tr>\n",
       "      <th>0</th>\n",
       "      <td>A long long time ago,</td>\n",
       "      <td>a(15.83%)</td>\n",
       "      <td>in(13.61%)</td>\n",
       "      <td>there(9.16%)</td>\n",
       "      <td>((3.70%)</td>\n",
       "      <td>A(3.34%)</td>\n",
       "    </tr>\n",
       "    <tr>\n",
       "      <th>1</th>\n",
       "      <td>A long long time ago,  a</td>\n",
       "      <td>group(22.58%)</td>\n",
       "      <td>young(11.94%)</td>\n",
       "      <td>very(8.00%)</td>\n",
       "      <td>great(4.93%)</td>\n",
       "      <td>person(2.37%)</td>\n",
       "    </tr>\n",
       "    <tr>\n",
       "      <th>2</th>\n",
       "      <td>A long long time ago,  a group</td>\n",
       "      <td>of(96.09%)</td>\n",
       "      <td>(1.59%)</td>\n",
       "      <td>called(0.81%)</td>\n",
       "      <td>&lt;|im_end|&gt;(0.14%)</td>\n",
       "      <td>named(0.12%)</td>\n",
       "    </tr>\n",
       "    <tr>\n",
       "      <th>3</th>\n",
       "      <td>A long long time ago,  a group of</td>\n",
       "      <td>people(31.19%)</td>\n",
       "      <td>(8.96%)</td>\n",
       "      <td>friends(6.81%)</td>\n",
       "      <td>young(4.63%)</td>\n",
       "      <td>humans(2.84%)</td>\n",
       "    </tr>\n",
       "    <tr>\n",
       "      <th>4</th>\n",
       "      <td>A long long time ago,  a group of people</td>\n",
       "      <td>(11.09%)</td>\n",
       "      <td>from(8.82%)</td>\n",
       "      <td>who(7.21%)</td>\n",
       "      <td>called(6.61%)</td>\n",
       "      <td>came(6.46%)</td>\n",
       "    </tr>\n",
       "    <tr>\n",
       "      <th>5</th>\n",
       "      <td>A long long time ago,  a group of people</td>\n",
       "      <td>decided(12.72%)</td>\n",
       "      <td>lived(10.80%)</td>\n",
       "      <td>were(8.62%)</td>\n",
       "      <td>came(8.42%)</td>\n",
       "      <td>had(5.42%)</td>\n",
       "    </tr>\n",
       "    <tr>\n",
       "      <th>6</th>\n",
       "      <td>A long long time ago,  a group of people  decided</td>\n",
       "      <td>to(77.71%)</td>\n",
       "      <td>(17.27%)</td>\n",
       "      <td>(1.97%)</td>\n",
       "      <td>&lt;|im_end|&gt;(0.73%)</td>\n",
       "      <td>that(0.49%)</td>\n",
       "    </tr>\n",
       "    <tr>\n",
       "      <th>7</th>\n",
       "      <td>A long long time ago,  a group of people  deci...</td>\n",
       "      <td>travel(26.40%)</td>\n",
       "      <td>build(20.37%)</td>\n",
       "      <td>go(16.30%)</td>\n",
       "      <td>(9.63%)</td>\n",
       "      <td>start(2.93%)</td>\n",
       "    </tr>\n",
       "    <tr>\n",
       "      <th>8</th>\n",
       "      <td>A long long time ago,  a group of people  deci...</td>\n",
       "      <td>to(59.79%)</td>\n",
       "      <td>(10.66%)</td>\n",
       "      <td>across(5.94%)</td>\n",
       "      <td>around(4.51%)</td>\n",
       "      <td>from(1.90%)</td>\n",
       "    </tr>\n",
       "    <tr>\n",
       "      <th>9</th>\n",
       "      <td>A long long time ago,  a group of people  deci...</td>\n",
       "      <td>a(43.56%)</td>\n",
       "      <td>the(23.48%)</td>\n",
       "      <td>(8.41%)</td>\n",
       "      <td>another(5.29%)</td>\n",
       "      <td>an(3.04%)</td>\n",
       "    </tr>\n",
       "  </tbody>\n",
       "</table>\n",
       "</div>"
      ],
      "text/plain": [
       "                                               input          choice 1  \\\n",
       "0                             A long long time ago,          a(15.83%)   \n",
       "1                           A long long time ago,  a     group(22.58%)   \n",
       "2                     A long long time ago,  a group        of(96.09%)   \n",
       "3                  A long long time ago,  a group of    people(31.19%)   \n",
       "4           A long long time ago,  a group of people          (11.09%)   \n",
       "5          A long long time ago,  a group of people    decided(12.72%)   \n",
       "6  A long long time ago,  a group of people  decided        to(77.71%)   \n",
       "7  A long long time ago,  a group of people  deci...    travel(26.40%)   \n",
       "8  A long long time ago,  a group of people  deci...        to(59.79%)   \n",
       "9  A long long time ago,  a group of people  deci...         a(43.56%)   \n",
       "\n",
       "         choice 2         choice 3           choice 4        choice 5  \n",
       "0      in(13.61%)     there(9.16%)           ((3.70%)        A(3.34%)  \n",
       "1   young(11.94%)      very(8.00%)       great(4.93%)   person(2.37%)  \n",
       "2         (1.59%)    called(0.81%)  <|im_end|>(0.14%)    named(0.12%)  \n",
       "3         (8.96%)   friends(6.81%)       young(4.63%)   humans(2.84%)  \n",
       "4     from(8.82%)       who(7.21%)      called(6.61%)     came(6.46%)  \n",
       "5   lived(10.80%)      were(8.62%)        came(8.42%)      had(5.42%)  \n",
       "6        (17.27%)          (1.97%)  <|im_end|>(0.73%)     that(0.49%)  \n",
       "7   build(20.37%)       go(16.30%)            (9.63%)    start(2.93%)  \n",
       "8        (10.66%)    across(5.94%)      around(4.51%)     from(1.90%)  \n",
       "9     the(23.48%)          (8.41%)     another(5.29%)       an(3.04%)  "
      ]
     },
     "execution_count": 15,
     "metadata": {},
     "output_type": "execute_result"
    }
   ],
   "source": [
    "pd.DataFrame(iterations)"
   ]
  },
  {
   "cell_type": "code",
   "execution_count": 27,
   "metadata": {},
   "outputs": [
    {
     "name": "stdout",
     "output_type": "stream",
     "text": [
      "torch.Size([151936])\n",
      "torch.Size([151936])\n",
      "tensor(4792, device='cuda:0')\n",
      "tensor(271, device='cuda:0')\n",
      "tensor(2121, device='cuda:0')\n",
      "tensor(785, device='cuda:0')\n",
      "tensor(3966, device='cuda:0')\n",
      "before append input_ids.shape torch.Size([1, 25])\n",
      "after append input_ids.shape torch.Size([1, 26])\n",
      "torch.Size([151936])\n",
      "torch.Size([151936])\n",
      "tensor(594, device='cuda:0')\n",
      "tensor(10362, device='cuda:0')\n",
      "tensor(374, device='cuda:0')\n",
      "tensor(748, device='cuda:0')\n",
      "tensor(5112, device='cuda:0')\n",
      "before append input_ids.shape torch.Size([1, 26])\n",
      "after append input_ids.shape torch.Size([1, 27])\n"
     ]
    }
   ],
   "source": [
    "n_steps = 2\n",
    "choice_per_step = 5\n",
    "iterations = []\n",
    "\n",
    "with torch.no_grad():\n",
    "    for _ in range(n_steps):\n",
    "        iteration = {}\n",
    "        iteration[\"input\"] = tokenizer.decode(input_ids[0])\n",
    "        output = model(input_ids)\n",
    "        # print(output)\n",
    "        last_token_logits = output.logits[0, -1, :] # 取出生成的token对应的分数[0,-1,:]\n",
    "        # print(last_token_logits)\n",
    "        last_token_probs = torch.softmax(last_token_logits,dim=-1)\n",
    "        print(last_token_probs.shape)\n",
    "        # torch.argsort()返回只是排序后的值所对应原输入input的下标，即torch.sort()返回的indices\n",
    "        sorted_ids = torch.argsort(last_token_probs,dim=-1,descending = True)\n",
    "        print(sorted_ids.shape)\n",
    "        for choice_idx in range(choice_per_step):\n",
    "            token_id = sorted_ids[choice_idx]\n",
    "            print(token_id)\n",
    "            token_prob = last_token_probs[token_id].cpu().numpy()\n",
    "            token_choice = f'{tokenizer.decode(token_id)}({100*token_prob:.2f}%)'\n",
    "            iteration[f'choice {choice_idx+1}'] = token_choice\n",
    "            \n",
    "        # append\n",
    "        print('before append input_ids.shape', input_ids.shape)\n",
    "        input_ids = torch.cat([input_ids, sorted_ids[None, 0, None]], dim=-1)\n",
    "        print('after append input_ids.shape', input_ids.shape)\n",
    "        \n",
    "        iterations.append(iteration)\n",
    "            \n"
   ]
  },
  {
   "cell_type": "code",
   "execution_count": 23,
   "metadata": {},
   "outputs": [
    {
     "name": "stdout",
     "output_type": "stream",
     "text": [
      "[{'input': 'A long long time ago,  a group of people  decided to travel to a faraway land.', 'choice 1': '<|im_end|>(41.36%)', 'choice 2': ' They(21.93%)', 'choice 3': ' (11.06%)', 'choice 4': ' The(5.97%)', 'choice 5': ' \\n\\n(2.87%)'}, {'input': 'A long long time ago,  a group of people  decided to travel to a faraway land.<|im_end|>', 'choice 1': '\\n(100.00%)', 'choice 2': '<|im_start|>(0.00%)', 'choice 3': '\\r\\n(0.00%)', 'choice 4': '，\\n(0.00%)', 'choice 5': ' \\n(0.00%)'}]\n"
     ]
    }
   ],
   "source": [
    "print(iterations)"
   ]
  },
  {
   "cell_type": "code",
   "execution_count": 14,
   "metadata": {},
   "outputs": [],
   "source": [
    "import pandas as pd"
   ]
  },
  {
   "cell_type": "code",
   "execution_count": 25,
   "metadata": {},
   "outputs": [
    {
     "data": {
      "text/html": [
       "<div>\n",
       "<style scoped>\n",
       "    .dataframe tbody tr th:only-of-type {\n",
       "        vertical-align: middle;\n",
       "    }\n",
       "\n",
       "    .dataframe tbody tr th {\n",
       "        vertical-align: top;\n",
       "    }\n",
       "\n",
       "    .dataframe thead th {\n",
       "        text-align: right;\n",
       "    }\n",
       "</style>\n",
       "<table border=\"1\" class=\"dataframe\">\n",
       "  <thead>\n",
       "    <tr style=\"text-align: right;\">\n",
       "      <th></th>\n",
       "      <th>input</th>\n",
       "      <th>choice 1</th>\n",
       "      <th>choice 2</th>\n",
       "      <th>choice 3</th>\n",
       "      <th>choice 4</th>\n",
       "      <th>choice 5</th>\n",
       "    </tr>\n",
       "  </thead>\n",
       "  <tbody>\n",
       "    <tr>\n",
       "      <th>0</th>\n",
       "      <td>A long long time ago,  a group of people  deci...</td>\n",
       "      <td>&lt;|im_end|&gt;(41.36%)</td>\n",
       "      <td>They(21.93%)</td>\n",
       "      <td>(11.06%)</td>\n",
       "      <td>The(5.97%)</td>\n",
       "      <td>\\n\\n(2.87%)</td>\n",
       "    </tr>\n",
       "    <tr>\n",
       "      <th>1</th>\n",
       "      <td>A long long time ago,  a group of people  deci...</td>\n",
       "      <td>\\n(100.00%)</td>\n",
       "      <td>&lt;|im_start|&gt;(0.00%)</td>\n",
       "      <td>\\r\\n(0.00%)</td>\n",
       "      <td>，\\n(0.00%)</td>\n",
       "      <td>\\n(0.00%)</td>\n",
       "    </tr>\n",
       "  </tbody>\n",
       "</table>\n",
       "</div>"
      ],
      "text/plain": [
       "                                               input            choice 1  \\\n",
       "0  A long long time ago,  a group of people  deci...  <|im_end|>(41.36%)   \n",
       "1  A long long time ago,  a group of people  deci...         \\n(100.00%)   \n",
       "\n",
       "              choice 2     choice 3     choice 4      choice 5  \n",
       "0         They(21.93%)     (11.06%)   The(5.97%)   \\n\\n(2.87%)  \n",
       "1  <|im_start|>(0.00%)  \\r\\n(0.00%)   ，\\n(0.00%)     \\n(0.00%)  "
      ]
     },
     "execution_count": 25,
     "metadata": {},
     "output_type": "execute_result"
    }
   ],
   "source": [
    "pd.DataFrame(iterations)"
   ]
  }
 ],
 "metadata": {
  "kernelspec": {
   "display_name": "rag_coder",
   "language": "python",
   "name": "python3"
  },
  "language_info": {
   "codemirror_mode": {
    "name": "ipython",
    "version": 3
   },
   "file_extension": ".py",
   "mimetype": "text/x-python",
   "name": "python",
   "nbconvert_exporter": "python",
   "pygments_lexer": "ipython3",
   "version": "3.9.21"
  }
 },
 "nbformat": 4,
 "nbformat_minor": 2
}
